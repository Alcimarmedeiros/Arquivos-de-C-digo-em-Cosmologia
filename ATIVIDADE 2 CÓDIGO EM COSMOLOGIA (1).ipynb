{
 "cells": [
  {
   "cell_type": "markdown",
   "id": "93848633",
   "metadata": {},
   "source": [
    "# Atividade "
   ]
  },
  {
   "cell_type": "markdown",
   "id": "364fbe9c",
   "metadata": {},
   "source": [
    "Discente: Alcimar Araujo de Medeiros"
   ]
  },
  {
   "cell_type": "markdown",
   "id": "750990ce",
   "metadata": {},
   "source": [
    "# Numpy é sempre mais rápido?"
   ]
  },
  {
   "cell_type": "markdown",
   "id": "5b927cb2",
   "metadata": {},
   "source": [
    "Considereo o tempo de execução das duas expressões:"
   ]
  },
  {
   "cell_type": "code",
   "execution_count": 1,
   "id": "bdc23079",
   "metadata": {},
   "outputs": [],
   "source": [
    "import numpy as np"
   ]
  },
  {
   "cell_type": "code",
   "execution_count": 2,
   "id": "236ff578",
   "metadata": {},
   "outputs": [
    {
     "name": "stdout",
     "output_type": "stream",
     "text": [
      "9.74 s ± 39.7 ms per loop (mean ± std. dev. of 7 runs, 1 loop each)\n"
     ]
    }
   ],
   "source": [
    "from sympy.ntheory import isprime\n",
    "\n",
    "%timeit np.sum(list(map(isprime,np.arange(1000000))))"
   ]
  },
  {
   "cell_type": "code",
   "execution_count": 3,
   "id": "d1c37d0f",
   "metadata": {},
   "outputs": [
    {
     "name": "stdout",
     "output_type": "stream",
     "text": [
      "9.13 s ± 27.5 ms per loop (mean ± std. dev. of 7 runs, 1 loop each)\n"
     ]
    }
   ],
   "source": [
    "%timeit sum(list(map(isprime,range(1000000))))"
   ]
  },
  {
   "cell_type": "markdown",
   "id": "a6f09c4a",
   "metadata": {},
   "source": [
    "# Por que a versão numpy.sum não é mais ŕapida do que sum, neste caso?"
   ]
  },
  {
   "cell_type": "markdown",
   "id": "ebc12edd",
   "metadata": {},
   "source": [
    "Quais são as diferenças de desempenho e comportamento entre o uso da função nativa sum do Python e a NumPy's numpy.sum? sum funciona nas matrizes de NumPy e numpy.sum funciona em Python listas e ambos retornam o mesmo resultado efetivo. \n",
    "A soma de Pythons será mais rápida nas listas, enquanto a soma do NumPys será mais rápida nas matrizes."
   ]
  }
 ],
 "metadata": {
  "kernelspec": {
   "display_name": "Python 3 (ipykernel)",
   "language": "python",
   "name": "python3"
  },
  "language_info": {
   "codemirror_mode": {
    "name": "ipython",
    "version": 3
   },
   "file_extension": ".py",
   "mimetype": "text/x-python",
   "name": "python",
   "nbconvert_exporter": "python",
   "pygments_lexer": "ipython3",
   "version": "3.8.10"
  }
 },
 "nbformat": 4,
 "nbformat_minor": 5
}
